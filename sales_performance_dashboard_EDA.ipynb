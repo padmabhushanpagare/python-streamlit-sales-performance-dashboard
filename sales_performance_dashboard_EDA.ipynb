{
 "cells": [
  {
   "cell_type": "markdown",
   "id": "5516ad30",
   "metadata": {},
   "source": [
    "Project : Sales Performance Dashboard\n",
    "\n",
    "Goal: Understand key metrics and trends in sales data.\n",
    "\n",
    "Skills: Summary statistics, correlation, groupby, filtering\n",
    "\n",
    "Tools: Python (Pandas, Matplotlib, Seaborn) or Power BI\n",
    "\n",
    "Deliverables: KPI report, trend charts, product/category insights\n",
    "\n",
    "Concepts:\n",
    "\n",
    "Mean, median, mode, variance, std\n",
    "\n",
    "Correlation & scatter plots\n",
    "\n",
    "Pivot tables, group-by summaries\n",
    "\n",
    "Bar, pie, line charts"
   ]
  },
  {
   "cell_type": "markdown",
   "id": "6a81a16f",
   "metadata": {},
   "source": [
    "to find answers of:\n",
    "\n",
    "What are the total sales and profit trends?\n",
    "\n",
    "Which departments or items are top performers?\n",
    "\n",
    "How does performance vary over time or location?"
   ]
  },
  {
   "cell_type": "code",
   "execution_count": 1,
   "id": "f110e863",
   "metadata": {},
   "outputs": [],
   "source": [
    "import numpy as np\n",
    "import pandas as pd"
   ]
  },
  {
   "cell_type": "code",
   "execution_count": 2,
   "id": "320447d0",
   "metadata": {},
   "outputs": [],
   "source": [
    "import matplotlib.pyplot as plt\n",
    "import seaborn as sns\n",
    "\n",
    "# Display all columns when printing DataFrames\n",
    "pd.set_option('display.max_columns', None)\n",
    "\n",
    "# Use a consistent style\n",
    "sns.set(style=\"whitegrid\")\n",
    "\n",
    "import warnings\n",
    "warnings.filterwarnings(\"ignore\")"
   ]
  },
  {
   "cell_type": "code",
   "execution_count": 4,
   "id": "d3cb25bc",
   "metadata": {},
   "outputs": [],
   "source": [
    "# Load data\n",
    "df = pd.read_csv(\"E:\\projects for core statistics in data science\\sales_performance_dashboard\\Warehouse_and_Retail_Sales.csv\")"
   ]
  },
  {
   "cell_type": "code",
   "execution_count": 5,
   "id": "700ebe44",
   "metadata": {},
   "outputs": [
    {
     "data": {
      "text/html": [
       "<div>\n",
       "<style scoped>\n",
       "    .dataframe tbody tr th:only-of-type {\n",
       "        vertical-align: middle;\n",
       "    }\n",
       "\n",
       "    .dataframe tbody tr th {\n",
       "        vertical-align: top;\n",
       "    }\n",
       "\n",
       "    .dataframe thead th {\n",
       "        text-align: right;\n",
       "    }\n",
       "</style>\n",
       "<table border=\"1\" class=\"dataframe\">\n",
       "  <thead>\n",
       "    <tr style=\"text-align: right;\">\n",
       "      <th></th>\n",
       "      <th>YEAR</th>\n",
       "      <th>MONTH</th>\n",
       "      <th>SUPPLIER</th>\n",
       "      <th>ITEM CODE</th>\n",
       "      <th>ITEM DESCRIPTION</th>\n",
       "      <th>ITEM TYPE</th>\n",
       "      <th>RETAIL SALES</th>\n",
       "      <th>RETAIL TRANSFERS</th>\n",
       "      <th>WAREHOUSE SALES</th>\n",
       "    </tr>\n",
       "  </thead>\n",
       "  <tbody>\n",
       "    <tr>\n",
       "      <th>0</th>\n",
       "      <td>2020</td>\n",
       "      <td>1</td>\n",
       "      <td>REPUBLIC NATIONAL DISTRIBUTING CO</td>\n",
       "      <td>100009</td>\n",
       "      <td>BOOTLEG RED - 750ML</td>\n",
       "      <td>WINE</td>\n",
       "      <td>0.00</td>\n",
       "      <td>0.0</td>\n",
       "      <td>2.0</td>\n",
       "    </tr>\n",
       "    <tr>\n",
       "      <th>1</th>\n",
       "      <td>2020</td>\n",
       "      <td>1</td>\n",
       "      <td>PWSWN INC</td>\n",
       "      <td>100024</td>\n",
       "      <td>MOMENT DE PLAISIR - 750ML</td>\n",
       "      <td>WINE</td>\n",
       "      <td>0.00</td>\n",
       "      <td>1.0</td>\n",
       "      <td>4.0</td>\n",
       "    </tr>\n",
       "    <tr>\n",
       "      <th>2</th>\n",
       "      <td>2020</td>\n",
       "      <td>1</td>\n",
       "      <td>RELIABLE CHURCHILL LLLP</td>\n",
       "      <td>1001</td>\n",
       "      <td>S SMITH ORGANIC PEAR CIDER - 18.7OZ</td>\n",
       "      <td>BEER</td>\n",
       "      <td>0.00</td>\n",
       "      <td>0.0</td>\n",
       "      <td>1.0</td>\n",
       "    </tr>\n",
       "    <tr>\n",
       "      <th>3</th>\n",
       "      <td>2020</td>\n",
       "      <td>1</td>\n",
       "      <td>LANTERNA DISTRIBUTORS INC</td>\n",
       "      <td>100145</td>\n",
       "      <td>SCHLINK HAUS KABINETT - 750ML</td>\n",
       "      <td>WINE</td>\n",
       "      <td>0.00</td>\n",
       "      <td>0.0</td>\n",
       "      <td>1.0</td>\n",
       "    </tr>\n",
       "    <tr>\n",
       "      <th>4</th>\n",
       "      <td>2020</td>\n",
       "      <td>1</td>\n",
       "      <td>DIONYSOS IMPORTS INC</td>\n",
       "      <td>100293</td>\n",
       "      <td>SANTORINI GAVALA WHITE - 750ML</td>\n",
       "      <td>WINE</td>\n",
       "      <td>0.82</td>\n",
       "      <td>0.0</td>\n",
       "      <td>0.0</td>\n",
       "    </tr>\n",
       "  </tbody>\n",
       "</table>\n",
       "</div>"
      ],
      "text/plain": [
       "   YEAR  MONTH                           SUPPLIER ITEM CODE  \\\n",
       "0  2020      1  REPUBLIC NATIONAL DISTRIBUTING CO    100009   \n",
       "1  2020      1                          PWSWN INC    100024   \n",
       "2  2020      1            RELIABLE CHURCHILL LLLP      1001   \n",
       "3  2020      1          LANTERNA DISTRIBUTORS INC    100145   \n",
       "4  2020      1               DIONYSOS IMPORTS INC    100293   \n",
       "\n",
       "                      ITEM DESCRIPTION ITEM TYPE  RETAIL SALES  \\\n",
       "0                  BOOTLEG RED - 750ML      WINE          0.00   \n",
       "1            MOMENT DE PLAISIR - 750ML      WINE          0.00   \n",
       "2  S SMITH ORGANIC PEAR CIDER - 18.7OZ      BEER          0.00   \n",
       "3        SCHLINK HAUS KABINETT - 750ML      WINE          0.00   \n",
       "4       SANTORINI GAVALA WHITE - 750ML      WINE          0.82   \n",
       "\n",
       "   RETAIL TRANSFERS  WAREHOUSE SALES  \n",
       "0               0.0              2.0  \n",
       "1               1.0              4.0  \n",
       "2               0.0              1.0  \n",
       "3               0.0              1.0  \n",
       "4               0.0              0.0  "
      ]
     },
     "execution_count": 5,
     "metadata": {},
     "output_type": "execute_result"
    }
   ],
   "source": [
    "# quick look at the data\n",
    "df.head()"
   ]
  },
  {
   "cell_type": "code",
   "execution_count": 6,
   "id": "2b2df685",
   "metadata": {},
   "outputs": [
    {
     "name": "stdout",
     "output_type": "stream",
     "text": [
      "<class 'pandas.core.frame.DataFrame'>\n",
      "RangeIndex: 307645 entries, 0 to 307644\n",
      "Data columns (total 9 columns):\n",
      " #   Column            Non-Null Count   Dtype  \n",
      "---  ------            --------------   -----  \n",
      " 0   YEAR              307645 non-null  int64  \n",
      " 1   MONTH             307645 non-null  int64  \n",
      " 2   SUPPLIER          307478 non-null  object \n",
      " 3   ITEM CODE         307645 non-null  object \n",
      " 4   ITEM DESCRIPTION  307645 non-null  object \n",
      " 5   ITEM TYPE         307644 non-null  object \n",
      " 6   RETAIL SALES      307642 non-null  float64\n",
      " 7   RETAIL TRANSFERS  307645 non-null  float64\n",
      " 8   WAREHOUSE SALES   307645 non-null  float64\n",
      "dtypes: float64(3), int64(2), object(4)\n",
      "memory usage: 21.1+ MB\n"
     ]
    }
   ],
   "source": [
    "# dataset info\n",
    "df.info()"
   ]
  },
  {
   "cell_type": "code",
   "execution_count": 7,
   "id": "1cc33858",
   "metadata": {},
   "outputs": [
    {
     "data": {
      "text/plain": [
       "YEAR                  0\n",
       "MONTH                 0\n",
       "SUPPLIER            167\n",
       "ITEM CODE             0\n",
       "ITEM DESCRIPTION      0\n",
       "ITEM TYPE             1\n",
       "RETAIL SALES          3\n",
       "RETAIL TRANSFERS      0\n",
       "WAREHOUSE SALES       0\n",
       "dtype: int64"
      ]
     },
     "execution_count": 7,
     "metadata": {},
     "output_type": "execute_result"
    }
   ],
   "source": [
    "# Check for missing values\n",
    "df.isnull().sum()"
   ]
  },
  {
   "cell_type": "code",
   "execution_count": 8,
   "id": "2f5fe785",
   "metadata": {},
   "outputs": [
    {
     "data": {
      "text/html": [
       "<div>\n",
       "<style scoped>\n",
       "    .dataframe tbody tr th:only-of-type {\n",
       "        vertical-align: middle;\n",
       "    }\n",
       "\n",
       "    .dataframe tbody tr th {\n",
       "        vertical-align: top;\n",
       "    }\n",
       "\n",
       "    .dataframe thead th {\n",
       "        text-align: right;\n",
       "    }\n",
       "</style>\n",
       "<table border=\"1\" class=\"dataframe\">\n",
       "  <thead>\n",
       "    <tr style=\"text-align: right;\">\n",
       "      <th></th>\n",
       "      <th>YEAR</th>\n",
       "      <th>MONTH</th>\n",
       "      <th>RETAIL SALES</th>\n",
       "      <th>RETAIL TRANSFERS</th>\n",
       "      <th>WAREHOUSE SALES</th>\n",
       "    </tr>\n",
       "  </thead>\n",
       "  <tbody>\n",
       "    <tr>\n",
       "      <th>count</th>\n",
       "      <td>307645.000000</td>\n",
       "      <td>307645.000000</td>\n",
       "      <td>307642.000000</td>\n",
       "      <td>307645.000000</td>\n",
       "      <td>307645.000000</td>\n",
       "    </tr>\n",
       "    <tr>\n",
       "      <th>mean</th>\n",
       "      <td>2018.438525</td>\n",
       "      <td>6.423862</td>\n",
       "      <td>7.024071</td>\n",
       "      <td>6.936465</td>\n",
       "      <td>25.294597</td>\n",
       "    </tr>\n",
       "    <tr>\n",
       "      <th>std</th>\n",
       "      <td>1.083061</td>\n",
       "      <td>3.461812</td>\n",
       "      <td>30.986238</td>\n",
       "      <td>30.237195</td>\n",
       "      <td>249.916798</td>\n",
       "    </tr>\n",
       "    <tr>\n",
       "      <th>min</th>\n",
       "      <td>2017.000000</td>\n",
       "      <td>1.000000</td>\n",
       "      <td>-6.490000</td>\n",
       "      <td>-38.490000</td>\n",
       "      <td>-7800.000000</td>\n",
       "    </tr>\n",
       "    <tr>\n",
       "      <th>25%</th>\n",
       "      <td>2017.000000</td>\n",
       "      <td>3.000000</td>\n",
       "      <td>0.000000</td>\n",
       "      <td>0.000000</td>\n",
       "      <td>0.000000</td>\n",
       "    </tr>\n",
       "    <tr>\n",
       "      <th>50%</th>\n",
       "      <td>2019.000000</td>\n",
       "      <td>7.000000</td>\n",
       "      <td>0.320000</td>\n",
       "      <td>0.000000</td>\n",
       "      <td>1.000000</td>\n",
       "    </tr>\n",
       "    <tr>\n",
       "      <th>75%</th>\n",
       "      <td>2019.000000</td>\n",
       "      <td>9.000000</td>\n",
       "      <td>3.267500</td>\n",
       "      <td>3.000000</td>\n",
       "      <td>5.000000</td>\n",
       "    </tr>\n",
       "    <tr>\n",
       "      <th>max</th>\n",
       "      <td>2020.000000</td>\n",
       "      <td>12.000000</td>\n",
       "      <td>2739.000000</td>\n",
       "      <td>1990.830000</td>\n",
       "      <td>18317.000000</td>\n",
       "    </tr>\n",
       "  </tbody>\n",
       "</table>\n",
       "</div>"
      ],
      "text/plain": [
       "                YEAR          MONTH   RETAIL SALES  RETAIL TRANSFERS  \\\n",
       "count  307645.000000  307645.000000  307642.000000     307645.000000   \n",
       "mean     2018.438525       6.423862       7.024071          6.936465   \n",
       "std         1.083061       3.461812      30.986238         30.237195   \n",
       "min      2017.000000       1.000000      -6.490000        -38.490000   \n",
       "25%      2017.000000       3.000000       0.000000          0.000000   \n",
       "50%      2019.000000       7.000000       0.320000          0.000000   \n",
       "75%      2019.000000       9.000000       3.267500          3.000000   \n",
       "max      2020.000000      12.000000    2739.000000       1990.830000   \n",
       "\n",
       "       WAREHOUSE SALES  \n",
       "count    307645.000000  \n",
       "mean         25.294597  \n",
       "std         249.916798  \n",
       "min       -7800.000000  \n",
       "25%           0.000000  \n",
       "50%           1.000000  \n",
       "75%           5.000000  \n",
       "max       18317.000000  "
      ]
     },
     "execution_count": 8,
     "metadata": {},
     "output_type": "execute_result"
    }
   ],
   "source": [
    "# Quick statistics for numeric columns\n",
    "df.describe()"
   ]
  },
  {
   "cell_type": "markdown",
   "id": "e2fe1502",
   "metadata": {},
   "source": [
    "Here we check:\n",
    "\n",
    "Column names, data types\n",
    "\n",
    "Missing values\n",
    "\n",
    "Basic numeric stats"
   ]
  },
  {
   "cell_type": "code",
   "execution_count": 9,
   "id": "c0db6283",
   "metadata": {},
   "outputs": [],
   "source": [
    "# 1. Rename columns to remove spaces for easier coding\n",
    "df.columns = df.columns.str.strip().str.replace(\" \", \"_\").str.upper()"
   ]
  },
  {
   "cell_type": "code",
   "execution_count": 10,
   "id": "df05c4c1",
   "metadata": {},
   "outputs": [],
   "source": [
    "# 2. Create Month-Year column\n",
    "df['MONTH_YEAR'] = pd.PeriodIndex.from_fields(year=df['YEAR'], month=df['MONTH'], freq='M')"
   ]
  },
  {
   "cell_type": "code",
   "execution_count": 11,
   "id": "6e29c2ed",
   "metadata": {},
   "outputs": [],
   "source": [
    "# 3. Convert categorical-like columns\n",
    "cat_cols = ['SUPPLIER', 'ITEM_CODE', 'ITEM_DESCRIPTION', 'ITEM_TYPE']\n",
    "for col in cat_cols:\n",
    "    df[col] = df[col].astype('category')"
   ]
  },
  {
   "cell_type": "code",
   "execution_count": 12,
   "id": "7b2f32e5",
   "metadata": {},
   "outputs": [],
   "source": [
    "# 4. Ensure sales columns are numeric\n",
    "sales_cols = ['RETAIL_SALES', 'RETAIL_TRANSFERS', 'WAREHOUSE_SALES']\n",
    "df[sales_cols] = df[sales_cols].apply(pd.to_numeric, errors='coerce')"
   ]
  },
  {
   "cell_type": "code",
   "execution_count": 13,
   "id": "92412796",
   "metadata": {},
   "outputs": [],
   "source": [
    "# 5. Handle missing numeric values with median\n",
    "df[sales_cols] = df[sales_cols].fillna(df[sales_cols].median())"
   ]
  },
  {
   "cell_type": "code",
   "execution_count": 14,
   "id": "7c551971",
   "metadata": {},
   "outputs": [
    {
     "name": "stdout",
     "output_type": "stream",
     "text": [
      "Final shape: (307645, 10)\n"
     ]
    },
    {
     "data": {
      "text/html": [
       "<div>\n",
       "<style scoped>\n",
       "    .dataframe tbody tr th:only-of-type {\n",
       "        vertical-align: middle;\n",
       "    }\n",
       "\n",
       "    .dataframe tbody tr th {\n",
       "        vertical-align: top;\n",
       "    }\n",
       "\n",
       "    .dataframe thead th {\n",
       "        text-align: right;\n",
       "    }\n",
       "</style>\n",
       "<table border=\"1\" class=\"dataframe\">\n",
       "  <thead>\n",
       "    <tr style=\"text-align: right;\">\n",
       "      <th></th>\n",
       "      <th>YEAR</th>\n",
       "      <th>MONTH</th>\n",
       "      <th>SUPPLIER</th>\n",
       "      <th>ITEM_CODE</th>\n",
       "      <th>ITEM_DESCRIPTION</th>\n",
       "      <th>ITEM_TYPE</th>\n",
       "      <th>RETAIL_SALES</th>\n",
       "      <th>RETAIL_TRANSFERS</th>\n",
       "      <th>WAREHOUSE_SALES</th>\n",
       "      <th>MONTH_YEAR</th>\n",
       "    </tr>\n",
       "  </thead>\n",
       "  <tbody>\n",
       "    <tr>\n",
       "      <th>0</th>\n",
       "      <td>2020</td>\n",
       "      <td>1</td>\n",
       "      <td>REPUBLIC NATIONAL DISTRIBUTING CO</td>\n",
       "      <td>100009</td>\n",
       "      <td>BOOTLEG RED - 750ML</td>\n",
       "      <td>WINE</td>\n",
       "      <td>0.00</td>\n",
       "      <td>0.0</td>\n",
       "      <td>2.0</td>\n",
       "      <td>2020-01</td>\n",
       "    </tr>\n",
       "    <tr>\n",
       "      <th>1</th>\n",
       "      <td>2020</td>\n",
       "      <td>1</td>\n",
       "      <td>PWSWN INC</td>\n",
       "      <td>100024</td>\n",
       "      <td>MOMENT DE PLAISIR - 750ML</td>\n",
       "      <td>WINE</td>\n",
       "      <td>0.00</td>\n",
       "      <td>1.0</td>\n",
       "      <td>4.0</td>\n",
       "      <td>2020-01</td>\n",
       "    </tr>\n",
       "    <tr>\n",
       "      <th>2</th>\n",
       "      <td>2020</td>\n",
       "      <td>1</td>\n",
       "      <td>RELIABLE CHURCHILL LLLP</td>\n",
       "      <td>1001</td>\n",
       "      <td>S SMITH ORGANIC PEAR CIDER - 18.7OZ</td>\n",
       "      <td>BEER</td>\n",
       "      <td>0.00</td>\n",
       "      <td>0.0</td>\n",
       "      <td>1.0</td>\n",
       "      <td>2020-01</td>\n",
       "    </tr>\n",
       "    <tr>\n",
       "      <th>3</th>\n",
       "      <td>2020</td>\n",
       "      <td>1</td>\n",
       "      <td>LANTERNA DISTRIBUTORS INC</td>\n",
       "      <td>100145</td>\n",
       "      <td>SCHLINK HAUS KABINETT - 750ML</td>\n",
       "      <td>WINE</td>\n",
       "      <td>0.00</td>\n",
       "      <td>0.0</td>\n",
       "      <td>1.0</td>\n",
       "      <td>2020-01</td>\n",
       "    </tr>\n",
       "    <tr>\n",
       "      <th>4</th>\n",
       "      <td>2020</td>\n",
       "      <td>1</td>\n",
       "      <td>DIONYSOS IMPORTS INC</td>\n",
       "      <td>100293</td>\n",
       "      <td>SANTORINI GAVALA WHITE - 750ML</td>\n",
       "      <td>WINE</td>\n",
       "      <td>0.82</td>\n",
       "      <td>0.0</td>\n",
       "      <td>0.0</td>\n",
       "      <td>2020-01</td>\n",
       "    </tr>\n",
       "  </tbody>\n",
       "</table>\n",
       "</div>"
      ],
      "text/plain": [
       "   YEAR  MONTH                           SUPPLIER ITEM_CODE  \\\n",
       "0  2020      1  REPUBLIC NATIONAL DISTRIBUTING CO    100009   \n",
       "1  2020      1                          PWSWN INC    100024   \n",
       "2  2020      1            RELIABLE CHURCHILL LLLP      1001   \n",
       "3  2020      1          LANTERNA DISTRIBUTORS INC    100145   \n",
       "4  2020      1               DIONYSOS IMPORTS INC    100293   \n",
       "\n",
       "                      ITEM_DESCRIPTION ITEM_TYPE  RETAIL_SALES  \\\n",
       "0                  BOOTLEG RED - 750ML      WINE          0.00   \n",
       "1            MOMENT DE PLAISIR - 750ML      WINE          0.00   \n",
       "2  S SMITH ORGANIC PEAR CIDER - 18.7OZ      BEER          0.00   \n",
       "3        SCHLINK HAUS KABINETT - 750ML      WINE          0.00   \n",
       "4       SANTORINI GAVALA WHITE - 750ML      WINE          0.82   \n",
       "\n",
       "   RETAIL_TRANSFERS  WAREHOUSE_SALES MONTH_YEAR  \n",
       "0               0.0              2.0    2020-01  \n",
       "1               1.0              4.0    2020-01  \n",
       "2               0.0              1.0    2020-01  \n",
       "3               0.0              1.0    2020-01  \n",
       "4               0.0              0.0    2020-01  "
      ]
     },
     "execution_count": 14,
     "metadata": {},
     "output_type": "execute_result"
    }
   ],
   "source": [
    "# 6. Final check\n",
    "print(\"Final shape:\", df.shape)\n",
    "df.head()"
   ]
  },
  {
   "cell_type": "markdown",
   "id": "9f31c39a",
   "metadata": {},
   "source": [
    "Summary Statistics (KPI Calculation)"
   ]
  },
  {
   "cell_type": "code",
   "execution_count": 15,
   "id": "0182cffd",
   "metadata": {},
   "outputs": [
    {
     "name": "stdout",
     "output_type": "stream",
     "text": [
      "Total Retail Sales: 2,160,900\n",
      "Total Retail Transfers: 2,133,969\n",
      "Total Warehouse Sales: 7,781,756\n"
     ]
    }
   ],
   "source": [
    "# 1. Overall KPIs\n",
    "total_retail_sales = df['RETAIL_SALES'].sum()\n",
    "total_transfers = df['RETAIL_TRANSFERS'].sum()\n",
    "total_warehouse_sales = df['WAREHOUSE_SALES'].sum()\n",
    "\n",
    "print(f\"Total Retail Sales: {total_retail_sales:,.0f}\")\n",
    "print(f\"Total Retail Transfers: {total_transfers:,.0f}\")\n",
    "print(f\"Total Warehouse Sales: {total_warehouse_sales:,.0f}\")"
   ]
  },
  {
   "cell_type": "code",
   "execution_count": 16,
   "id": "ed048648",
   "metadata": {},
   "outputs": [
    {
     "name": "stdout",
     "output_type": "stream",
     "text": [
      "\n",
      "Top 5 Suppliers by Retail Sales:\n",
      " SUPPLIER\n",
      "E & J GALLO WINERY          166170.53\n",
      "DIAGEO NORTH AMERICA INC    145343.20\n",
      "CONSTELLATION BRANDS        131664.79\n",
      "ANHEUSER BUSCH INC          109960.82\n",
      "JIM BEAM BRANDS CO           96164.04\n",
      "Name: RETAIL_SALES, dtype: float64\n"
     ]
    }
   ],
   "source": [
    "# 2. Top 5 suppliers by retail sales\n",
    "top_suppliers = df.groupby('SUPPLIER')['RETAIL_SALES'].sum().sort_values(ascending=False).head(5)\n",
    "print(\"\\nTop 5 Suppliers by Retail Sales:\\n\", top_suppliers)"
   ]
  },
  {
   "cell_type": "code",
   "execution_count": 17,
   "id": "9fe8a516",
   "metadata": {},
   "outputs": [
    {
     "name": "stdout",
     "output_type": "stream",
     "text": [
      "\n",
      "Top 5 Items by Retail Sales:\n",
      " ITEM_DESCRIPTION\n",
      "TITO'S HANDMADE VODKA - 1.75L    27580.5\n",
      "CORONA EXTRA LOOSE NR - 12OZ     25064.0\n",
      "HEINEKEN LOOSE NR - 12OZ         17761.0\n",
      "MILLER LITE 30PK CAN - 12OZ      14440.0\n",
      "BUD LIGHT 30PK CAN               12299.0\n",
      "Name: RETAIL_SALES, dtype: float64\n"
     ]
    }
   ],
   "source": [
    "# 3. Top 5 items by retail sales\n",
    "top_items = df.groupby('ITEM_DESCRIPTION')['RETAIL_SALES'].sum().sort_values(ascending=False).head(5)\n",
    "print(\"\\nTop 5 Items by Retail Sales:\\n\", top_items)"
   ]
  },
  {
   "cell_type": "code",
   "execution_count": 18,
   "id": "90c7931f",
   "metadata": {},
   "outputs": [
    {
     "name": "stdout",
     "output_type": "stream",
     "text": [
      "\n",
      "Average Monthly Retail Sales: 90,038\n"
     ]
    }
   ],
   "source": [
    "# 4. Average monthly sales\n",
    "avg_monthly_sales = df.groupby('MONTH_YEAR')['RETAIL_SALES'].sum().mean()\n",
    "print(f\"\\nAverage Monthly Retail Sales: {avg_monthly_sales:,.0f}\")"
   ]
  },
  {
   "cell_type": "markdown",
   "id": "79c12d37",
   "metadata": {},
   "source": [
    "Visualizations"
   ]
  },
  {
   "cell_type": "code",
   "execution_count": 20,
   "id": "091fe217",
   "metadata": {},
   "outputs": [
    {
     "data": {
      "image/png": "[encoded data removed]",
      "text/plain": [
       "<Figure size 1200x600 with 1 Axes>"
      ]
     },
     "metadata": {},
     "output_type": "display_data"
    }
   ],
   "source": [
    "# 1. Monthly Retail Sales Trend\n",
    "\n",
    "monthly_sales = df.groupby('MONTH_YEAR')['RETAIL_SALES'].sum()\n",
    "\n",
    "plt.figure(figsize=(12,6))\n",
    "monthly_sales.plot(kind='line', marker='o', color='tab:blue')\n",
    "plt.title('Monthly Retail Sales Trend', fontsize=16)\n",
    "plt.xlabel('Month-Year')\n",
    "plt.ylabel('Total Retail Sales')\n",
    "plt.xticks(rotation=45)\n",
    "plt.tight_layout()\n",
    "plt.savefig('visuals/monthly_retail_sales_trend.png', dpi=300)\n",
    "plt.show()"
   ]
  },
  {
   "cell_type": "code",
   "execution_count": 22,
   "id": "7f3a7c47",
   "metadata": {},
   "outputs": [
    {
     "data": {
      "image/png": "[encoded data removed]",
      "text/plain": [
       "<Figure size 1000x600 with 1 Axes>"
      ]
     },
     "metadata": {},
     "output_type": "display_data"
    }
   ],
   "source": [
    "# 2. Top 10 Suppliers by Total Retail Sales (fixed)\n",
    "\n",
    "# Ensure SUPPLIER is string\n",
    "df['SUPPLIER'] = df['SUPPLIER'].astype(str)\n",
    "\n",
    "# Aggregate and directly pick top 10\n",
    "top_suppliers = (\n",
    "    df.groupby('SUPPLIER', as_index=False)['RETAIL_SALES']\n",
    "      .sum()\n",
    "      .nlargest(10, 'RETAIL_SALES')\n",
    ")\n",
    "\n",
    "# Truncate long names\n",
    "top_suppliers['Short_Name'] = top_suppliers['SUPPLIER'].apply(\n",
    "    lambda x: x if len(x) <= 25 else x[:22] + '...'\n",
    ")\n",
    "\n",
    "# Plot\n",
    "plt.figure(figsize=(10,6))\n",
    "sns.barplot(\n",
    "    data=top_suppliers,\n",
    "    x='RETAIL_SALES',\n",
    "    y='Short_Name',\n",
    "    palette='Blues_r'\n",
    ")\n",
    "plt.title('Top 10 Suppliers by Retail Sales', fontsize=16)\n",
    "plt.xlabel('Total Retail Sales')\n",
    "plt.ylabel('Supplier')\n",
    "plt.tight_layout()\n",
    "plt.savefig('visuals/top_suppliers.png', dpi=300)\n",
    "plt.show()\n"
   ]
  },
  {
   "cell_type": "code",
   "execution_count": null,
   "id": "abd1e643",
   "metadata": {},
   "outputs": [],
   "source": [
    "# Optimize groupby with nlargest to avoid sorting entire column\n",
    "top_items = (\n",
    "    df.groupby('ITEM_DESCRIPTION', as_index=False)['RETAIL_SALES']\n",
    "      .sum()\n",
    "      .nlargest(10, 'RETAIL_SALES')\n",
    ")\n",
    "\n",
    "# Plot\n",
    "plt.figure(figsize=(10,6))\n",
    "sns.barplot(\n",
    "    data=top_items,\n",
    "    x='RETAIL_SALES',\n",
    "    y='ITEM_DESCRIPTION',\n",
    "    palette='Greens_r'\n",
    ")\n",
    "plt.title('Top 10 Items by Retail Sales', fontsize=16)\n",
    "plt.xlabel('Total Retail Sales')\n",
    "plt.ylabel('Item Description')\n",
    "plt.tight_layout()\n",
    "plt.savefig('visuals/top_items.png', dpi=300)\n",
    "plt.show()\n"
   ]
  },
  {
   "cell_type": "code",
   "execution_count": null,
   "id": "4cc4a761",
   "metadata": {},
   "outputs": [],
   "source": [
    "# 4. Retail vs Warehouse Sales Over Time\n",
    "\n",
    "monthly_compare = df.groupby('MONTH_YEAR')[['RETAIL_SALES', 'WAREHOUSE_SALES']].sum()\n",
    "\n",
    "plt.figure(figsize=(12,6))\n",
    "monthly_compare.plot(kind='bar', stacked=True, figsize=(12,6), color=['tab:blue', 'tab:orange'])\n",
    "plt.title('Retail vs Warehouse Sales Over Time', fontsize=16)\n",
    "plt.xlabel('Month-Year')\n",
    "plt.ylabel('Sales')\n",
    "plt.xticks(rotation=45)\n",
    "plt.tight_layout()\n",
    "plt.savefig('visuals/retail_vs_warehouse.png', dpi=300)\n",
    "plt.show()"
   ]
  },
  {
   "cell_type": "markdown",
   "id": "dc3f37bb",
   "metadata": {},
   "source": [
    "Monthly Retail Sales Trend → seasonality & growth/decline patterns.\n",
    "\n",
    "Top 10 Suppliers → which suppliers drive revenue.\n",
    "\n",
    "Top 10 Items → best-selling products.\n",
    "\n",
    "Retail vs Warehouse Sales Over Time → how both channels perform over months."
   ]
  }
 ],
 "metadata": {
  "kernelspec": {
   "display_name": "Python 3",
   "language": "python",
   "name": "python3"
  },
  "language_info": {
   "codemirror_mode": {
    "name": "ipython",
    "version": 3
   },
   "file_extension": ".py",
   "mimetype": "text/x-python",
   "name": "python",
   "nbconvert_exporter": "python",
   "pygments_lexer": "ipython3",
   "version": "3.11.10"
  }
 },
 "nbformat": 4,
 "nbformat_minor": 5
}
